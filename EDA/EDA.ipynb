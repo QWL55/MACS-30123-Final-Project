{
 "cells": [
  {
   "cell_type": "markdown",
   "id": "cf31fccd",
   "metadata": {},
   "source": [
    "# Set up"
   ]
  },
  {
   "cell_type": "code",
   "execution_count": 1,
   "id": "9c963f47",
   "metadata": {},
   "outputs": [],
   "source": [
    "import dask.dataframe as dd\n",
    "import matplotlib.pyplot as plt\n",
    "import seaborn as sns"
   ]
  },
  {
   "cell_type": "code",
   "execution_count": 2,
   "id": "8f2fbde0",
   "metadata": {},
   "outputs": [],
   "source": [
    "df = dd.read_csv('pooled_clean.csv')"
   ]
  },
  {
   "cell_type": "code",
   "execution_count": 3,
   "id": "fd758840",
   "metadata": {},
   "outputs": [
    {
     "data": {
      "text/plain": [
       "IA    0.893529\n",
       "PK    0.055867\n",
       "NP    0.050604\n",
       "Name: country, dtype: float64"
      ]
     },
     "execution_count": 3,
     "metadata": {},
     "output_type": "execute_result"
    }
   ],
   "source": [
    "df['country'].value_counts().compute() / df.shape[0].compute()"
   ]
  },
  {
   "cell_type": "markdown",
   "id": "f67b0fa7",
   "metadata": {},
   "source": [
    "# Check the Distribution of Label"
   ]
  },
  {
   "cell_type": "code",
   "execution_count": 4,
   "id": "dd5125b4",
   "metadata": {},
   "outputs": [],
   "source": [
    "y_dist = df['violence'].value_counts().compute()"
   ]
  },
  {
   "cell_type": "code",
   "execution_count": 18,
   "id": "575b91eb",
   "metadata": {},
   "outputs": [
    {
     "data": {
      "text/plain": [
       "0    0.699847\n",
       "1    0.300153\n",
       "Name: violence, dtype: float64"
      ]
     },
     "execution_count": 18,
     "metadata": {},
     "output_type": "execute_result"
    }
   ],
   "source": [
    "y_dist['violence'] / df.shape[0].compute()"
   ]
  },
  {
   "cell_type": "code",
   "execution_count": 5,
   "id": "dbd6eda6",
   "metadata": {},
   "outputs": [],
   "source": [
    "y_dist = y_dist.to_frame().reset_index()# = y_dist.to_frame()"
   ]
  },
  {
   "cell_type": "code",
   "execution_count": 6,
   "id": "089586b8",
   "metadata": {},
   "outputs": [
    {
     "data": {
      "image/png": "[encoded data removed]",
      "text/plain": [
       "<Figure size 432x288 with 1 Axes>"
      ]
     },
     "metadata": {
      "needs_background": "light"
     },
     "output_type": "display_data"
    }
   ],
   "source": [
    "fig1 = sns.barplot(x='index', y='violence',data=y_dist)\n",
    "fig1.set_title('The Distribution of Intimate Partner Violence (IPV)')\n",
    "fig1.set_ylabel('Incidences')\n",
    "fig1.set_xlabel('Ever Experienced IPV')\n",
    "fig1.set_xticklabels([\"No\", \"Yes\"])\n",
    "plt.savefig(\"fig1.png\")\n",
    "plt.show()"
   ]
  },
  {
   "cell_type": "markdown",
   "id": "9c69851e",
   "metadata": {},
   "source": [
    "# Exploratory Analysis"
   ]
  },
  {
   "cell_type": "markdown",
   "id": "873c4569",
   "metadata": {},
   "source": [
    "## fam_ipv and violence"
   ]
  },
  {
   "cell_type": "code",
   "execution_count": 7,
   "id": "6f7af33d",
   "metadata": {},
   "outputs": [],
   "source": [
    "df2 = df.groupby('fam_ipv').violence.mean().compute()"
   ]
  },
  {
   "cell_type": "code",
   "execution_count": 8,
   "id": "861d0aa5",
   "metadata": {},
   "outputs": [],
   "source": [
    "df2 = df2.to_frame()\n",
    "df2.reset_index(inplace=True)"
   ]
  },
  {
   "cell_type": "code",
   "execution_count": 9,
   "id": "dc08736f",
   "metadata": {},
   "outputs": [
    {
     "data": {
      "text/html": [
       "<div>\n",
       "<style scoped>\n",
       "    .dataframe tbody tr th:only-of-type {\n",
       "        vertical-align: middle;\n",
       "    }\n",
       "\n",
       "    .dataframe tbody tr th {\n",
       "        vertical-align: top;\n",
       "    }\n",
       "\n",
       "    .dataframe thead th {\n",
       "        text-align: right;\n",
       "    }\n",
       "</style>\n",
       "<table border=\"1\" class=\"dataframe\">\n",
       "  <thead>\n",
       "    <tr style=\"text-align: right;\">\n",
       "      <th></th>\n",
       "      <th>fam_ipv</th>\n",
       "      <th>violence</th>\n",
       "    </tr>\n",
       "  </thead>\n",
       "  <tbody>\n",
       "    <tr>\n",
       "      <th>0</th>\n",
       "      <td>0</td>\n",
       "      <td>0.239418</td>\n",
       "    </tr>\n",
       "    <tr>\n",
       "      <th>1</th>\n",
       "      <td>1</td>\n",
       "      <td>0.578538</td>\n",
       "    </tr>\n",
       "  </tbody>\n",
       "</table>\n",
       "</div>"
      ],
      "text/plain": [
       "   fam_ipv  violence\n",
       "0        0  0.239418\n",
       "1        1  0.578538"
      ]
     },
     "execution_count": 9,
     "metadata": {},
     "output_type": "execute_result"
    }
   ],
   "source": [
    "df2"
   ]
  },
  {
   "cell_type": "code",
   "execution_count": 10,
   "id": "48d1dc15",
   "metadata": {},
   "outputs": [
    {
     "data": {
      "image/png": "[encoded data removed]",
      "text/plain": [
       "<Figure size 432x288 with 1 Axes>"
      ]
     },
     "metadata": {
      "needs_background": "light"
     },
     "output_type": "display_data"
    }
   ],
   "source": [
    "plt.close()\n",
    "fig2 = sns.barplot(x='fam_ipv', y='violence',data=df2)\n",
    "fig2.set_title('Family History of IPV and Experience of IPV')\n",
    "fig2.set_ylabel('Proportion of Women Experiencing IPV')\n",
    "fig2.set_xlabel('IPV in Family History')\n",
    "fig2.set_xticklabels([\"No\", \"Yes\"])\n",
    "plt.savefig(\"fig2.png\")\n",
    "plt.show()"
   ]
  },
  {
   "cell_type": "markdown",
   "id": "fa9f4d35",
   "metadata": {},
   "source": [
    "## Partner's Education and IPV"
   ]
  },
  {
   "cell_type": "code",
   "execution_count": 11,
   "id": "931431ac",
   "metadata": {},
   "outputs": [
    {
     "data": {
      "image/png": "[encoded data removed]",
      "text/plain": [
       "<Figure size 432x288 with 1 Axes>"
      ]
     },
     "metadata": {
      "needs_background": "light"
     },
     "output_type": "display_data"
    }
   ],
   "source": [
    "plt.close()\n",
    "fig3 = sns.boxplot(x=\"violence\", y=\"part_edu\", data=df.compute(), \n",
    "                   showmeans=True,\n",
    "                      meanprops={\"marker\":\"o\",\n",
    "                       \"markerfacecolor\":\"white\", \n",
    "                       \"markeredgecolor\":\"black\",\n",
    "                        \"markersize\":\"6\"})\n",
    "fig3.set_title('Partner\\'s education by Experience of IPV')\n",
    "fig3.set_xlabel('Ever Experienced IPV')\n",
    "fig3.set_xticklabels([\"No\", \"Yes\"])\n",
    "fig3.set_ylabel('Yeas of Education for the Partner')\n",
    "plt.savefig(\"fig3.png\")\n",
    "plt.show()"
   ]
  },
  {
   "cell_type": "markdown",
   "id": "92d0e73d",
   "metadata": {},
   "source": [
    "## Use of Alcohol by Partner and IPV"
   ]
  },
  {
   "cell_type": "code",
   "execution_count": 12,
   "id": "35e13416",
   "metadata": {},
   "outputs": [],
   "source": [
    "df4 = df.groupby('alcohol').violence.mean().compute()\n",
    "df4 = df4.to_frame()\n",
    "df4.reset_index(inplace=True)"
   ]
  },
  {
   "cell_type": "code",
   "execution_count": 13,
   "id": "e4cefdd0",
   "metadata": {},
   "outputs": [
    {
     "data": {
      "text/html": [
       "<div>\n",
       "<style scoped>\n",
       "    .dataframe tbody tr th:only-of-type {\n",
       "        vertical-align: middle;\n",
       "    }\n",
       "\n",
       "    .dataframe tbody tr th {\n",
       "        vertical-align: top;\n",
       "    }\n",
       "\n",
       "    .dataframe thead th {\n",
       "        text-align: right;\n",
       "    }\n",
       "</style>\n",
       "<table border=\"1\" class=\"dataframe\">\n",
       "  <thead>\n",
       "    <tr style=\"text-align: right;\">\n",
       "      <th></th>\n",
       "      <th>alcohol</th>\n",
       "      <th>violence</th>\n",
       "    </tr>\n",
       "  </thead>\n",
       "  <tbody>\n",
       "    <tr>\n",
       "      <th>0</th>\n",
       "      <td>0</td>\n",
       "      <td>0.223877</td>\n",
       "    </tr>\n",
       "    <tr>\n",
       "      <th>1</th>\n",
       "      <td>1</td>\n",
       "      <td>0.486381</td>\n",
       "    </tr>\n",
       "  </tbody>\n",
       "</table>\n",
       "</div>"
      ],
      "text/plain": [
       "   alcohol  violence\n",
       "0        0  0.223877\n",
       "1        1  0.486381"
      ]
     },
     "execution_count": 13,
     "metadata": {},
     "output_type": "execute_result"
    }
   ],
   "source": [
    "df4"
   ]
  },
  {
   "cell_type": "code",
   "execution_count": 14,
   "id": "3da34df1",
   "metadata": {},
   "outputs": [
    {
     "data": {
      "image/png": "[encoded data removed]",
      "text/plain": [
       "<Figure size 432x288 with 1 Axes>"
      ]
     },
     "metadata": {
      "needs_background": "light"
     },
     "output_type": "display_data"
    }
   ],
   "source": [
    "plt.close()\n",
    "fig4 = sns.barplot(x='alcohol', y='violence',data=df4)\n",
    "fig4.set_title('Partner\\'s Alcohol Consumption and Experience of IPV')\n",
    "fig4.set_ylabel('Proportion of Women Experiencing IPV')\n",
    "fig4.set_xlabel('Partner Drinks Alcohol')\n",
    "fig4.set_xticklabels([\"No\", \"Yes\"])\n",
    "plt.savefig(\"fig4.png\")\n",
    "plt.show()"
   ]
  },
  {
   "cell_type": "markdown",
   "id": "5af76c23",
   "metadata": {},
   "source": [
    "## Women's Education and IPV"
   ]
  },
  {
   "cell_type": "code",
   "execution_count": 15,
   "id": "37c0f486",
   "metadata": {},
   "outputs": [
    {
     "data": {
      "image/png": "[encoded data removed]",
      "text/plain": [
       "<Figure size 432x288 with 1 Axes>"
      ]
     },
     "metadata": {
      "needs_background": "light"
     },
     "output_type": "display_data"
    }
   ],
   "source": [
    "plt.close()\n",
    "fig5 = sns.boxplot(x=\"violence\", y=\"edu\", data=df.compute(), \n",
    "                   showmeans=True,\n",
    "                      meanprops={\"marker\":\"o\",\n",
    "                       \"markerfacecolor\":\"white\", \n",
    "                       \"markeredgecolor\":\"black\",\n",
    "                        \"markersize\":\"6\"})\n",
    "fig5.set_title('Woman\\'s Education by Experience of IPV')\n",
    "fig5.set_xlabel('Ever Experienced IPV')\n",
    "fig5.set_xticklabels([\"No\", \"Yes\"])\n",
    "fig5.set_ylabel('Yeas of Education for the Partner')\n",
    "plt.savefig(\"fig5.png\")\n",
    "plt.show()"
   ]
  }
 ],
 "metadata": {
  "kernelspec": {
   "display_name": "Python [conda env:macs30123]",
   "language": "python",
   "name": "conda-env-macs30123-py"
  },
  "language_info": {
   "codemirror_mode": {
    "name": "ipython",
    "version": 3
   },
   "file_extension": ".py",
   "mimetype": "text/x-python",
   "name": "python",
   "nbconvert_exporter": "python",
   "pygments_lexer": "ipython3",
   "version": "3.7.10"
  }
 },
 "nbformat": 4,
 "nbformat_minor": 5
}
