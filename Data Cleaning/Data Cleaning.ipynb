{
 "cells": [
  {
   "cell_type": "code",
   "execution_count": 1,
   "id": "4215769a",
   "metadata": {},
   "outputs": [],
   "source": [
    "from dask.distributed import Client\n",
    "import pandas as pd \n",
    "import dask.dataframe as dd\n",
    "import numpy as np"
   ]
  },
  {
   "cell_type": "code",
   "execution_count": 2,
   "id": "66f349eb",
   "metadata": {},
   "outputs": [
    {
     "data": {
      "text/html": [
       "<table style=\"border: 2px solid white;\">\n",
       "<tr>\n",
       "<td style=\"vertical-align: top; border: 0px solid white\">\n",
       "<h3 style=\"text-align: left;\">Client</h3>\n",
       "<ul style=\"text-align: left; list-style: none; margin: 0; padding: 0;\">\n",
       "  <li><b>Scheduler: </b>tcp://127.0.0.1:52672</li>\n",
       "  <li><b>Dashboard: </b><a href='http://127.0.0.1:8787/status' target='_blank'>http://127.0.0.1:8787/status</a></li>\n",
       "</ul>\n",
       "</td>\n",
       "<td style=\"vertical-align: top; border: 0px solid white\">\n",
       "<h3 style=\"text-align: left;\">Cluster</h3>\n",
       "<ul style=\"text-align: left; list-style:none; margin: 0; padding: 0;\">\n",
       "  <li><b>Workers: </b>4</li>\n",
       "  <li><b>Cores: </b>8</li>\n",
       "  <li><b>Memory: </b>19.84 GiB</li>\n",
       "</ul>\n",
       "</td>\n",
       "</tr>\n",
       "</table>"
      ],
      "text/plain": [
       "<Client: 'tcp://127.0.0.1:52672' processes=4 threads=8, memory=19.84 GiB>"
      ]
     },
     "execution_count": 2,
     "metadata": {},
     "output_type": "execute_result"
    }
   ],
   "source": [
    "client = Client()\n",
    "client"
   ]
  },
  {
   "cell_type": "markdown",
   "id": "fb4cd4c9",
   "metadata": {},
   "source": [
    "# Loading Data"
   ]
  },
  {
   "cell_type": "code",
   "execution_count": 3,
   "id": "256e55b5",
   "metadata": {},
   "outputs": [],
   "source": [
    "# subset = [\"v101\",\"v025\", \"d104\", \"d106\", \"d107\", \"d108\", \"d113\", \"d121\", \"d122a\", \"d122b\", \"v044\"\n",
    "#           \"v133\",\"v137\", \"v153\", \"v190\", \"v501\", \"v502\", \"v511\", \"v512\", \"v730\", \"v731\", \"v741\", \"v012\", \n",
    "#           \"v745a\",\"v745b\", \"v715\", \"v744a\",\"v744b\", \"v744c\", \"v744d\", \"v744e\"]\n",
    "var = ['country', 'violence', 'age', 'age_first', 'duration', 'urban', 'edu', 'n_children', 'employ_paid',\n",
    "       'own_house', 'own_land', 'att_wb', 'fam_ipv', 'part_age', 'part_edu', 'alcohol', \n",
    "       'wealth_idx', 'telephone_yes']"
   ]
  },
  {
   "cell_type": "code",
   "execution_count": 4,
   "id": "b89578d6",
   "metadata": {},
   "outputs": [],
   "source": [
    "def clean_db(file):\n",
    "    '''\n",
    "    perform data cleaning on file\n",
    "    '''    \n",
    "    df = dd.read_csv(file, dtype={'v715': 'object', 'v133': 'int64'})\n",
    "    \n",
    "    df['country'] = file[:2]\n",
    "    # create outcome variable\n",
    "    df['emo_vio'] = df['d104'].apply(lambda x:1 if x == 'yes' else 0, meta=('emo_vio', 'int64'))\n",
    "    df['phy_vio'] = df['d106'].apply(lambda x:1 if x == 'yes' else 0, meta=('phy_vio', 'int64')) | \\\n",
    "                df['d107'].apply(lambda x:1 if x == 'yes' else 0, meta=('phy_vio', 'int64'))\n",
    "    df['sex_vio'] = df['d108'].apply(lambda x:1 if x == 'yes' else 0, meta=('sex_vio', 'int64'))\n",
    "    df['violence'] = (df['emo_vio'] | df['phy_vio'] | df['sex_vio'])\n",
    "    \n",
    "    # clean individual-level features\n",
    "    df['urban'] = df['v025'].apply(lambda x: 1 if x != 'rural' else 0, meta=('urban', 'int64'))\n",
    "    df['employ_paid'] = df['v741'].apply(lambda x:1 if x in ('in-kind only', 'cash only', 'cash and in-kind') \\\n",
    "                                         and x  else 0, meta=('employ_paid', 'int64'))\n",
    "    df['own_land'] = df['v745b'].apply(lambda x:1 if x != 'does not own' else 0, meta=('own_land', 'int64'))\n",
    "    df['own_house'] = df['v745a'].apply(lambda x:1 if x != 'does not own' else 0, meta=('own_house', 'int64'))\n",
    "    df['fam_ipv'] = df['d121'].apply(lambda x: 1 if x == 'yes' else 0, meta=('fam_ipv', 'int64'))\n",
    "    \n",
    "    for var in ['v744a', 'v744b', 'v744c', 'v744d', 'v744e']:\n",
    "        df[var] = df[var].apply(lambda x:1 if x == 'yes' else 0, meta=(var, 'int64'))\n",
    "    df['att_wb'] = (df[['v744a', 'v744b', 'v744c', 'v744d', 'v744e']].sum(axis=1) >= 1).astype(int)\n",
    "    df = df.rename(columns=dict(zip(['v137', 'v133', 'v012', 'v511', 'v512'], \n",
    "                                    ['n_children', 'edu', 'age', 'age_first', 'duration'])))\n",
    "    # clean partner features\n",
    "    df['v715'] = df['v715'].apply(lambda x: np.NaN if x == 'don\\'t know' else x, meta=('v715', 'int64'))\n",
    "    df['v715'] = df['v715'].replace({np.NaN: -1}).astype(int)\n",
    "    df['v715'] = df['v715'].replace({-1: np.NaN})\n",
    "    #print(df['v715'].unique().compute())# = df['v715']\n",
    "    df = df.rename(columns=dict(zip(['v730', 'v715'], ['part_age', 'part_edu'])))\n",
    "    df['alcohol'] = df['d113'].apply(lambda x:1 if x == 'yes' else 0, meta=('alcohol', 'int64'))\n",
    "    # household-level features\n",
    "    df['wealth_idx'] = df['v190'].replace({'poorest': 0, 'poorer': 1, 'middle': 2, 'richer': 3, 'richest': 4})\n",
    "    df['telephone_yes'] = df['v153'].apply(lambda x:1 if x == 'yes' else 0, meta=('telephone_yes', 'int64'))\n",
    "    \n",
    "    return df\n",
    "    "
   ]
  },
  {
   "cell_type": "markdown",
   "id": "3032e401",
   "metadata": {},
   "source": [
    "# Combining Multiple Datasets"
   ]
  },
  {
   "cell_type": "code",
   "execution_count": 5,
   "id": "71224a44",
   "metadata": {},
   "outputs": [],
   "source": [
    "PK = clean_db('PK.csv')[var].dropna()\n",
    "IA = clean_db('IA.csv')[var].dropna()\n",
    "NP = clean_db('NP.csv')[var].dropna()"
   ]
  },
  {
   "cell_type": "code",
   "execution_count": 7,
   "id": "426adfeb",
   "metadata": {},
   "outputs": [],
   "source": [
    "pooled = pd.concat([PK.compute(), NP.compute(), IA.compute()])"
   ]
  },
  {
   "cell_type": "code",
   "execution_count": 8,
   "id": "e961be44",
   "metadata": {},
   "outputs": [
    {
     "data": {
      "text/plain": [
       "(73156, 18)"
      ]
     },
     "execution_count": 8,
     "metadata": {},
     "output_type": "execute_result"
    }
   ],
   "source": [
    "pooled.shape#.to_csv('pooled_clean.csv',index=False)"
   ]
  },
  {
   "cell_type": "code",
   "execution_count": 9,
   "id": "105a0165",
   "metadata": {},
   "outputs": [],
   "source": [
    "pooled.to_csv('pooled_clean.csv', index=False)#[1]#.compute()"
   ]
  }
 ],
 "metadata": {
  "kernelspec": {
   "display_name": "Python [conda env:macs30123]",
   "language": "python",
   "name": "conda-env-macs30123-py"
  },
  "language_info": {
   "codemirror_mode": {
    "name": "ipython",
    "version": 3
   },
   "file_extension": ".py",
   "mimetype": "text/x-python",
   "name": "python",
   "nbconvert_exporter": "python",
   "pygments_lexer": "ipython3",
   "version": "3.7.10"
  }
 },
 "nbformat": 4,
 "nbformat_minor": 5
}
