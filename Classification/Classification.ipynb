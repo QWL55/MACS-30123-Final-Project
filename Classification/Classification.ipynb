{
 "cells": [
  {
   "cell_type": "markdown",
   "id": "8d1fbafd",
   "metadata": {},
   "source": [
    "# Set up"
   ]
  },
  {
   "cell_type": "code",
   "execution_count": 48,
   "id": "46f2c9ef",
   "metadata": {},
   "outputs": [],
   "source": [
    "import dask\n",
    "import xgboost\n",
    "import dask_xgboost\n",
    "import numpy as np\n",
    "import dask.dataframe as dd \n",
    "from dask.distributed import Client\n",
    "import pandas as pd"
   ]
  },
  {
   "cell_type": "code",
   "execution_count": 2,
   "id": "ba1964c7",
   "metadata": {},
   "outputs": [
    {
     "data": {
      "text/html": [
       "<table style=\"border: 2px solid white;\">\n",
       "<tr>\n",
       "<td style=\"vertical-align: top; border: 0px solid white\">\n",
       "<h3 style=\"text-align: left;\">Client</h3>\n",
       "<ul style=\"text-align: left; list-style: none; margin: 0; padding: 0;\">\n",
       "  <li><b>Scheduler: </b>tcp://127.0.0.1:54419</li>\n",
       "  <li><b>Dashboard: </b><a href='http://127.0.0.1:8787/status' target='_blank'>http://127.0.0.1:8787/status</a></li>\n",
       "</ul>\n",
       "</td>\n",
       "<td style=\"vertical-align: top; border: 0px solid white\">\n",
       "<h3 style=\"text-align: left;\">Cluster</h3>\n",
       "<ul style=\"text-align: left; list-style:none; margin: 0; padding: 0;\">\n",
       "  <li><b>Workers: </b>4</li>\n",
       "  <li><b>Cores: </b>8</li>\n",
       "  <li><b>Memory: </b>19.84 GiB</li>\n",
       "</ul>\n",
       "</td>\n",
       "</tr>\n",
       "</table>"
      ],
      "text/plain": [
       "<Client: 'tcp://127.0.0.1:54419' processes=4 threads=8, memory=19.84 GiB>"
      ]
     },
     "execution_count": 2,
     "metadata": {},
     "output_type": "execute_result"
    }
   ],
   "source": [
    "client = Client()\n",
    "client"
   ]
  },
  {
   "cell_type": "markdown",
   "id": "d4bc56d5",
   "metadata": {},
   "source": [
    "# Data Splitting and Downsampling"
   ]
  },
  {
   "cell_type": "code",
   "execution_count": 3,
   "id": "ba2914d6",
   "metadata": {},
   "outputs": [],
   "source": [
    "from dask_ml.model_selection import train_test_split"
   ]
  },
  {
   "cell_type": "code",
   "execution_count": 4,
   "id": "a6a9cf23",
   "metadata": {},
   "outputs": [],
   "source": [
    "df = dd.read_csv('pooled_clean.csv')"
   ]
  },
  {
   "cell_type": "code",
   "execution_count": 5,
   "id": "29195a95",
   "metadata": {},
   "outputs": [
    {
     "data": {
      "text/plain": [
       "0    40958.4\n",
       "1    17566.4\n",
       "Name: violence, dtype: float64"
      ]
     },
     "execution_count": 5,
     "metadata": {},
     "output_type": "execute_result"
    }
   ],
   "source": [
    "df['violence'].value_counts().compute() * 0.8"
   ]
  },
  {
   "cell_type": "code",
   "execution_count": 6,
   "id": "f6906dd6",
   "metadata": {},
   "outputs": [],
   "source": [
    "random_state = 5\n",
    "np.random.seed(random_state)"
   ]
  },
  {
   "cell_type": "code",
   "execution_count": 7,
   "id": "8c8a057d",
   "metadata": {},
   "outputs": [],
   "source": [
    "yes_indices = df[df.violence == 1].index\n",
    "no_indices = df[df.violence != 1].index\n",
    "train_yes_indices = np.random.choice(yes_indices, 17567, replace=False)\n",
    "train_no_indices = np.random.choice(no_indices, 20000, replace=False)\n",
    "train_indices = np.concatenate((train_yes_indices, train_no_indices), axis=0)\n",
    "train = df.loc[lambda df: df.index.isin(train_indices)]\n",
    "test = df.loc[lambda df: ~df.index.isin(train_indices)]"
   ]
  },
  {
   "cell_type": "code",
   "execution_count": 8,
   "id": "2189e7ad",
   "metadata": {},
   "outputs": [
    {
     "data": {
      "text/plain": [
       "0    20000\n",
       "1    17567\n",
       "Name: violence, dtype: int64"
      ]
     },
     "execution_count": 8,
     "metadata": {},
     "output_type": "execute_result"
    }
   ],
   "source": [
    "train['violence'].value_counts().compute()"
   ]
  },
  {
   "cell_type": "code",
   "execution_count": 9,
   "id": "9e7214c2",
   "metadata": {},
   "outputs": [],
   "source": [
    "y_train = train['violence']\n",
    "y_test = test['violence']"
   ]
  },
  {
   "cell_type": "code",
   "execution_count": 10,
   "id": "49cd4d59",
   "metadata": {},
   "outputs": [],
   "source": [
    "X_train = train.drop('violence', axis=1)\n",
    "X_test = test.drop('violence', axis=1)"
   ]
  },
  {
   "cell_type": "code",
   "execution_count": 11,
   "id": "4bbeddc1",
   "metadata": {},
   "outputs": [],
   "source": [
    "from dask_ml.preprocessing import MinMaxScaler\n",
    "scaler = MinMaxScaler()\n",
    "X_train = scaler.fit_transform(X_train.drop('country', axis=1))\n",
    "X_test = scaler.fit_transform(X_test.drop('country', axis=1))"
   ]
  },
  {
   "cell_type": "code",
   "execution_count": 12,
   "id": "0da7bede",
   "metadata": {},
   "outputs": [
    {
     "data": {
      "text/html": [
       "<div>\n",
       "<style scoped>\n",
       "    .dataframe tbody tr th:only-of-type {\n",
       "        vertical-align: middle;\n",
       "    }\n",
       "\n",
       "    .dataframe tbody tr th {\n",
       "        vertical-align: top;\n",
       "    }\n",
       "\n",
       "    .dataframe thead th {\n",
       "        text-align: right;\n",
       "    }\n",
       "</style>\n",
       "<table border=\"1\" class=\"dataframe\">\n",
       "  <thead>\n",
       "    <tr style=\"text-align: right;\">\n",
       "      <th></th>\n",
       "      <th>age</th>\n",
       "      <th>age_first</th>\n",
       "      <th>duration</th>\n",
       "      <th>urban</th>\n",
       "      <th>edu</th>\n",
       "      <th>n_children</th>\n",
       "      <th>employ_paid</th>\n",
       "      <th>own_house</th>\n",
       "      <th>own_land</th>\n",
       "      <th>att_wb</th>\n",
       "      <th>fam_ipv</th>\n",
       "      <th>part_age</th>\n",
       "      <th>part_edu</th>\n",
       "      <th>alcohol</th>\n",
       "      <th>wealth_idx</th>\n",
       "      <th>telephone_yes</th>\n",
       "    </tr>\n",
       "  </thead>\n",
       "  <tbody>\n",
       "    <tr>\n",
       "      <th>0</th>\n",
       "      <td>0.588235</td>\n",
       "      <td>0.354167</td>\n",
       "      <td>0.386364</td>\n",
       "      <td>0.0</td>\n",
       "      <td>0.50</td>\n",
       "      <td>0.1</td>\n",
       "      <td>0.0</td>\n",
       "      <td>0.0</td>\n",
       "      <td>0.0</td>\n",
       "      <td>0.0</td>\n",
       "      <td>0.0</td>\n",
       "      <td>0.3625</td>\n",
       "      <td>0.40</td>\n",
       "      <td>0.0</td>\n",
       "      <td>0.00</td>\n",
       "      <td>0.0</td>\n",
       "    </tr>\n",
       "    <tr>\n",
       "      <th>1</th>\n",
       "      <td>0.647059</td>\n",
       "      <td>0.395833</td>\n",
       "      <td>0.409091</td>\n",
       "      <td>0.0</td>\n",
       "      <td>0.00</td>\n",
       "      <td>0.1</td>\n",
       "      <td>0.0</td>\n",
       "      <td>0.0</td>\n",
       "      <td>0.0</td>\n",
       "      <td>1.0</td>\n",
       "      <td>0.0</td>\n",
       "      <td>0.3750</td>\n",
       "      <td>0.25</td>\n",
       "      <td>0.0</td>\n",
       "      <td>0.25</td>\n",
       "      <td>0.0</td>\n",
       "    </tr>\n",
       "    <tr>\n",
       "      <th>2</th>\n",
       "      <td>0.500000</td>\n",
       "      <td>0.416667</td>\n",
       "      <td>0.250000</td>\n",
       "      <td>0.0</td>\n",
       "      <td>0.00</td>\n",
       "      <td>0.0</td>\n",
       "      <td>0.0</td>\n",
       "      <td>0.0</td>\n",
       "      <td>0.0</td>\n",
       "      <td>1.0</td>\n",
       "      <td>0.0</td>\n",
       "      <td>0.3500</td>\n",
       "      <td>0.50</td>\n",
       "      <td>0.0</td>\n",
       "      <td>0.00</td>\n",
       "      <td>0.0</td>\n",
       "    </tr>\n",
       "    <tr>\n",
       "      <th>4</th>\n",
       "      <td>1.000000</td>\n",
       "      <td>0.500000</td>\n",
       "      <td>0.568182</td>\n",
       "      <td>0.0</td>\n",
       "      <td>0.25</td>\n",
       "      <td>0.0</td>\n",
       "      <td>0.0</td>\n",
       "      <td>0.0</td>\n",
       "      <td>0.0</td>\n",
       "      <td>0.0</td>\n",
       "      <td>1.0</td>\n",
       "      <td>0.4375</td>\n",
       "      <td>0.00</td>\n",
       "      <td>0.0</td>\n",
       "      <td>0.00</td>\n",
       "      <td>0.0</td>\n",
       "    </tr>\n",
       "    <tr>\n",
       "      <th>5</th>\n",
       "      <td>0.294118</td>\n",
       "      <td>0.416667</td>\n",
       "      <td>0.113636</td>\n",
       "      <td>0.0</td>\n",
       "      <td>0.70</td>\n",
       "      <td>0.2</td>\n",
       "      <td>0.0</td>\n",
       "      <td>0.0</td>\n",
       "      <td>0.0</td>\n",
       "      <td>1.0</td>\n",
       "      <td>0.0</td>\n",
       "      <td>0.2000</td>\n",
       "      <td>0.50</td>\n",
       "      <td>0.0</td>\n",
       "      <td>0.25</td>\n",
       "      <td>0.0</td>\n",
       "    </tr>\n",
       "  </tbody>\n",
       "</table>\n",
       "</div>"
      ],
      "text/plain": [
       "        age  age_first  duration  urban   edu  n_children  employ_paid  \\\n",
       "0  0.588235   0.354167  0.386364    0.0  0.50         0.1          0.0   \n",
       "1  0.647059   0.395833  0.409091    0.0  0.00         0.1          0.0   \n",
       "2  0.500000   0.416667  0.250000    0.0  0.00         0.0          0.0   \n",
       "4  1.000000   0.500000  0.568182    0.0  0.25         0.0          0.0   \n",
       "5  0.294118   0.416667  0.113636    0.0  0.70         0.2          0.0   \n",
       "\n",
       "   own_house  own_land  att_wb  fam_ipv  part_age  part_edu  alcohol  \\\n",
       "0        0.0       0.0     0.0      0.0    0.3625      0.40      0.0   \n",
       "1        0.0       0.0     1.0      0.0    0.3750      0.25      0.0   \n",
       "2        0.0       0.0     1.0      0.0    0.3500      0.50      0.0   \n",
       "4        0.0       0.0     0.0      1.0    0.4375      0.00      0.0   \n",
       "5        0.0       0.0     1.0      0.0    0.2000      0.50      0.0   \n",
       "\n",
       "   wealth_idx  telephone_yes  \n",
       "0        0.00            0.0  \n",
       "1        0.25            0.0  \n",
       "2        0.00            0.0  \n",
       "4        0.00            0.0  \n",
       "5        0.25            0.0  "
      ]
     },
     "execution_count": 12,
     "metadata": {},
     "output_type": "execute_result"
    }
   ],
   "source": [
    "X_train.head()"
   ]
  },
  {
   "cell_type": "markdown",
   "id": "deea941f",
   "metadata": {},
   "source": [
    "# Logistic Regression"
   ]
  },
  {
   "cell_type": "code",
   "execution_count": 13,
   "id": "ac2ae20f",
   "metadata": {},
   "outputs": [],
   "source": [
    "from dask_ml.linear_model import LogisticRegression\n",
    "from sklearn.metrics import roc_auc_score, recall_score, plot_roc_curve, plot_confusion_matrix\n",
    "from dask_ml.model_selection import GridSearchCV\n",
    "import matplotlib.pyplot as plt"
   ]
  },
  {
   "cell_type": "code",
   "execution_count": 14,
   "id": "ad227d5f",
   "metadata": {},
   "outputs": [],
   "source": [
    "parameters = {'penalty': ['l1', 'l2'], 'C': np.arange(0.1, 1, 0.1)}\n",
    "lr = LogisticRegression()"
   ]
  },
  {
   "cell_type": "code",
   "execution_count": 15,
   "id": "70e11695",
   "metadata": {},
   "outputs": [],
   "source": [
    "X_train_array = X_train.to_dask_array(lengths=True)\n",
    "y_train_array = y_train.to_dask_array(lengths=True)\n",
    "X_test_array = X_test.to_dask_array(lengths=True)\n",
    "y_test_array = y_test.to_dask_array(lengths=True)"
   ]
  },
  {
   "cell_type": "code",
   "execution_count": 16,
   "id": "dfda48de",
   "metadata": {},
   "outputs": [],
   "source": [
    "cvlr = GridSearchCV(lr, parameters, cv=5)"
   ]
  },
  {
   "cell_type": "code",
   "execution_count": 17,
   "id": "ff7a89f8",
   "metadata": {},
   "outputs": [
    {
     "data": {
      "text/plain": [
       "GridSearchCV(cv=5, estimator=LogisticRegression(),\n",
       "             param_grid={'C': array([0.1, 0.2, 0.3, 0.4, 0.5, 0.6, 0.7, 0.8, 0.9]),\n",
       "                         'penalty': ['l1', 'l2']})"
      ]
     },
     "execution_count": 17,
     "metadata": {},
     "output_type": "execute_result"
    }
   ],
   "source": [
    "cvlr.fit(X_train_array, y_train_array)"
   ]
  },
  {
   "cell_type": "code",
   "execution_count": 18,
   "id": "4ba00d32",
   "metadata": {},
   "outputs": [
    {
     "data": {
      "text/plain": [
       "{'C': 0.9, 'penalty': 'l2'}"
      ]
     },
     "execution_count": 18,
     "metadata": {},
     "output_type": "execute_result"
    }
   ],
   "source": [
    "cvlr.best_params_"
   ]
  },
  {
   "cell_type": "code",
   "execution_count": 19,
   "id": "03939488",
   "metadata": {},
   "outputs": [
    {
     "data": {
      "text/plain": [
       "LogisticRegression(C=0.9)"
      ]
     },
     "execution_count": 19,
     "metadata": {},
     "output_type": "execute_result"
    }
   ],
   "source": [
    "best_lr = LogisticRegression(penalty=cvlr.best_params_['penalty'], C=cvlr.best_params_['C'])\n",
    "best_lr.fit(X_train_array, y_train_array)"
   ]
  },
  {
   "cell_type": "code",
   "execution_count": 20,
   "id": "ff68498e",
   "metadata": {},
   "outputs": [],
   "source": [
    "best_lr._estimator_type = 'classifier'\n",
    "best_lr.classes_ = np.array([0, 1])"
   ]
  },
  {
   "cell_type": "code",
   "execution_count": 21,
   "id": "8b351e07",
   "metadata": {},
   "outputs": [],
   "source": [
    "yhat = best_lr.predict(X_test_array).compute()"
   ]
  },
  {
   "cell_type": "code",
   "execution_count": 22,
   "id": "472d0106",
   "metadata": {},
   "outputs": [
    {
     "data": {
      "text/plain": [
       "0.7550085700637837"
      ]
     },
     "execution_count": 22,
     "metadata": {},
     "output_type": "execute_result"
    }
   ],
   "source": [
    "best_lr.score(X_test_array, y_test_array).compute()"
   ]
  },
  {
   "cell_type": "code",
   "execution_count": 23,
   "id": "08d683cc",
   "metadata": {},
   "outputs": [
    {
     "data": {
      "text/plain": [
       "0.5843771350489638"
      ]
     },
     "execution_count": 23,
     "metadata": {},
     "output_type": "execute_result"
    }
   ],
   "source": [
    "recall_score(y_test, yhat)#, average='weighted')"
   ]
  },
  {
   "cell_type": "code",
   "execution_count": 24,
   "id": "33c44175",
   "metadata": {},
   "outputs": [
    {
     "data": {
      "text/plain": [
       "0.7452594129612774"
      ]
     },
     "execution_count": 24,
     "metadata": {},
     "output_type": "execute_result"
    }
   ],
   "source": [
    "roc_auc_score(y_test, best_lr.predict_proba(X_test_array)[:, 1].compute())"
   ]
  },
  {
   "cell_type": "code",
   "execution_count": 163,
   "id": "88120f72",
   "metadata": {},
   "outputs": [
    {
     "data": {
      "image/png": "[encoded data removed]",
      "text/plain": [
       "<Figure size 432x288 with 1 Axes>"
      ]
     },
     "metadata": {
      "needs_background": "light"
     },
     "output_type": "display_data"
    }
   ],
   "source": [
    "best_lr_disp = plot_roc_curve(best_lr, X_test_array, y_test_array)\n",
    "plt.plot([0, 1], [0, 1], color='orange', linestyle='--')\n",
    "plt.savefig(\"ROC_lr.png\")\n",
    "plt.show()"
   ]
  },
  {
   "cell_type": "code",
   "execution_count": 162,
   "id": "5b09a04f",
   "metadata": {},
   "outputs": [
    {
     "data": {
      "image/png": "[encoded data removed]",
      "text/plain": [
       "<Figure size 432x288 with 2 Axes>"
      ]
     },
     "metadata": {
      "needs_background": "light"
     },
     "output_type": "display_data"
    }
   ],
   "source": [
    "plt.close()\n",
    "confu_lr = plot_confusion_matrix(best_lr, X_test_array, y_test_array)\n",
    "plt.savefig(\"conf_mat_lr.png\")\n",
    "plt.show()"
   ]
  },
  {
   "cell_type": "code",
   "execution_count": 165,
   "id": "b16afcfc",
   "metadata": {},
   "outputs": [
    {
     "data": {
      "text/html": [
       "<div>\n",
       "<style scoped>\n",
       "    .dataframe tbody tr th:only-of-type {\n",
       "        vertical-align: middle;\n",
       "    }\n",
       "\n",
       "    .dataframe tbody tr th {\n",
       "        vertical-align: top;\n",
       "    }\n",
       "\n",
       "    .dataframe thead th {\n",
       "        text-align: right;\n",
       "    }\n",
       "</style>\n",
       "<table border=\"1\" class=\"dataframe\">\n",
       "  <thead>\n",
       "    <tr style=\"text-align: right;\">\n",
       "      <th></th>\n",
       "      <th>coef</th>\n",
       "    </tr>\n",
       "  </thead>\n",
       "  <tbody>\n",
       "    <tr>\n",
       "      <th>urban</th>\n",
       "      <td>2.648361</td>\n",
       "    </tr>\n",
       "    <tr>\n",
       "      <th>part_age</th>\n",
       "      <td>1.296744</td>\n",
       "    </tr>\n",
       "    <tr>\n",
       "      <th>employ_paid</th>\n",
       "      <td>1.239882</td>\n",
       "    </tr>\n",
       "    <tr>\n",
       "      <th>duration</th>\n",
       "      <td>1.176684</td>\n",
       "    </tr>\n",
       "    <tr>\n",
       "      <th>wealth_idx</th>\n",
       "      <td>1.005908</td>\n",
       "    </tr>\n",
       "    <tr>\n",
       "      <th>fam_ipv</th>\n",
       "      <td>0.624097</td>\n",
       "    </tr>\n",
       "    <tr>\n",
       "      <th>own_house</th>\n",
       "      <td>0.251076</td>\n",
       "    </tr>\n",
       "    <tr>\n",
       "      <th>edu</th>\n",
       "      <td>0.124068</td>\n",
       "    </tr>\n",
       "    <tr>\n",
       "      <th>own_land</th>\n",
       "      <td>0.059513</td>\n",
       "    </tr>\n",
       "    <tr>\n",
       "      <th>att_wb</th>\n",
       "      <td>-0.089306</td>\n",
       "    </tr>\n",
       "    <tr>\n",
       "      <th>alcohol</th>\n",
       "      <td>-0.184409</td>\n",
       "    </tr>\n",
       "    <tr>\n",
       "      <th>telephone_yes</th>\n",
       "      <td>-0.523168</td>\n",
       "    </tr>\n",
       "    <tr>\n",
       "      <th>n_children</th>\n",
       "      <td>-0.566398</td>\n",
       "    </tr>\n",
       "    <tr>\n",
       "      <th>part_edu</th>\n",
       "      <td>-0.922155</td>\n",
       "    </tr>\n",
       "    <tr>\n",
       "      <th>age</th>\n",
       "      <td>-1.142684</td>\n",
       "    </tr>\n",
       "    <tr>\n",
       "      <th>age_first</th>\n",
       "      <td>-1.205138</td>\n",
       "    </tr>\n",
       "  </tbody>\n",
       "</table>\n",
       "</div>"
      ],
      "text/plain": [
       "                   coef\n",
       "urban          2.648361\n",
       "part_age       1.296744\n",
       "employ_paid    1.239882\n",
       "duration       1.176684\n",
       "wealth_idx     1.005908\n",
       "fam_ipv        0.624097\n",
       "own_house      0.251076\n",
       "edu            0.124068\n",
       "own_land       0.059513\n",
       "att_wb        -0.089306\n",
       "alcohol       -0.184409\n",
       "telephone_yes -0.523168\n",
       "n_children    -0.566398\n",
       "part_edu      -0.922155\n",
       "age           -1.142684\n",
       "age_first     -1.205138"
      ]
     },
     "execution_count": 165,
     "metadata": {},
     "output_type": "execute_result"
    }
   ],
   "source": [
    "lr_coef = pd.DataFrame({'coef': best_lr.coef_})\n",
    "lr_coef.index=X_train.columns\n",
    "lr_coef.sort_values(by='coef', inplace=True, ascending=False)\n",
    "lr_coef"
   ]
  },
  {
   "cell_type": "markdown",
   "id": "32972c61",
   "metadata": {},
   "source": [
    "# Random Forest"
   ]
  },
  {
   "cell_type": "code",
   "execution_count": 29,
   "id": "55c00627",
   "metadata": {},
   "outputs": [],
   "source": [
    "from sklearn.ensemble import RandomForestClassifier"
   ]
  },
  {
   "cell_type": "code",
   "execution_count": 30,
   "id": "34004d64",
   "metadata": {},
   "outputs": [],
   "source": [
    "rf_parameters = {'max_features': [4, 8, 12],\n",
    "                 'max_depth': [4, 8], \n",
    "                 'n_estimators': [500, 750, 1000]\n",
    "                }\n",
    "rf = RandomForestClassifier(random_state=random_state)"
   ]
  },
  {
   "cell_type": "code",
   "execution_count": 31,
   "id": "6319f853",
   "metadata": {},
   "outputs": [],
   "source": [
    "cv_rf = GridSearchCV(rf, rf_parameters, cv=5)"
   ]
  },
  {
   "cell_type": "code",
   "execution_count": 32,
   "id": "6dc7df59",
   "metadata": {},
   "outputs": [
    {
     "data": {
      "text/plain": [
       "GridSearchCV(cv=5, estimator=RandomForestClassifier(random_state=5),\n",
       "             param_grid={'max_depth': [4, 8], 'max_features': [4, 8, 12],\n",
       "                         'n_estimators': [500, 750, 1000]})"
      ]
     },
     "execution_count": 32,
     "metadata": {},
     "output_type": "execute_result"
    }
   ],
   "source": [
    "cv_rf.fit(X_train_array, y_train_array)"
   ]
  },
  {
   "cell_type": "code",
   "execution_count": 33,
   "id": "496cbc64",
   "metadata": {},
   "outputs": [
    {
     "data": {
      "text/plain": [
       "{'max_depth': 4, 'max_features': 4, 'n_estimators': 500}"
      ]
     },
     "execution_count": 33,
     "metadata": {},
     "output_type": "execute_result"
    }
   ],
   "source": [
    "cv_rf.best_params_"
   ]
  },
  {
   "cell_type": "code",
   "execution_count": 41,
   "id": "79d363a3",
   "metadata": {},
   "outputs": [
    {
     "data": {
      "text/plain": [
       "0.763747225266234"
      ]
     },
     "execution_count": 41,
     "metadata": {},
     "output_type": "execute_result"
    }
   ],
   "source": [
    "cv_rf.best_estimator_.score(X_test_array, y_test_array)"
   ]
  },
  {
   "cell_type": "code",
   "execution_count": 42,
   "id": "2a57b404",
   "metadata": {},
   "outputs": [],
   "source": [
    "yhat_rf = cv_rf.best_estimator_.predict(X_test_array)"
   ]
  },
  {
   "cell_type": "code",
   "execution_count": 43,
   "id": "f8a8b08b",
   "metadata": {},
   "outputs": [
    {
     "data": {
      "text/plain": [
       "0.5780004554771123"
      ]
     },
     "execution_count": 43,
     "metadata": {},
     "output_type": "execute_result"
    }
   ],
   "source": [
    "recall_score(y_test, yhat_rf)#, average='weighted')"
   ]
  },
  {
   "cell_type": "code",
   "execution_count": 40,
   "id": "35ac379f",
   "metadata": {},
   "outputs": [
    {
     "data": {
      "text/plain": [
       "0.748193913825418"
      ]
     },
     "execution_count": 40,
     "metadata": {},
     "output_type": "execute_result"
    }
   ],
   "source": [
    "roc_auc_score(y_test, cv_rf.best_estimator_.predict_proba(X_test_array)[:, 1])"
   ]
  },
  {
   "cell_type": "code",
   "execution_count": 161,
   "id": "e4763140",
   "metadata": {},
   "outputs": [
    {
     "data": {
      "image/png": "[encoded data removed]",
      "text/plain": [
       "<Figure size 432x288 with 1 Axes>"
      ]
     },
     "metadata": {
      "needs_background": "light"
     },
     "output_type": "display_data"
    }
   ],
   "source": [
    "plt.close()\n",
    "best_rf_disp = plot_roc_curve(cv_rf.best_estimator_, X_test_array, y_test_array)\n",
    "plt.plot([0, 1], [0, 1], color='orange', linestyle='--')\n",
    "plt.savefig(\"ROC_rf.png\")\n",
    "plt.show()"
   ]
  },
  {
   "cell_type": "code",
   "execution_count": 159,
   "id": "38d73c34",
   "metadata": {},
   "outputs": [
    {
     "data": {
      "image/png": "[encoded data removed]",
      "text/plain": [
       "<Figure size 432x288 with 2 Axes>"
      ]
     },
     "metadata": {
      "needs_background": "light"
     },
     "output_type": "display_data"
    }
   ],
   "source": [
    "plt.close()\n",
    "conf_mat_rf = plot_confusion_matrix(cv_rf.best_estimator_, X_test_array, y_test_array)\n",
    "plt.savefig(\"conf_mat_rf.png\")\n",
    "plt.show()"
   ]
  },
  {
   "cell_type": "markdown",
   "id": "272d2221",
   "metadata": {},
   "source": [
    "# Pooled Feature Importance"
   ]
  },
  {
   "cell_type": "code",
   "execution_count": 107,
   "id": "c73d34a2",
   "metadata": {},
   "outputs": [],
   "source": [
    "forest_importances = forest_importances = pd.DataFrame({'imp': cv_rf.best_estimator_.feature_importances_})\n",
    "forest_importances.index=X_train.columns\n",
    "forest_importances.sort_values(by='imp', inplace=True, ascending=False)\n",
    "forest_importances['95% imp'] = forest_importances['imp'].cumsum()"
   ]
  },
  {
   "cell_type": "code",
   "execution_count": 133,
   "id": "6bfd89ca",
   "metadata": {},
   "outputs": [
    {
     "data": {
      "image/png": "[encoded data removed]",
      "text/plain": [
       "<Figure size 432x288 with 1 Axes>"
      ]
     },
     "metadata": {
      "needs_background": "light"
     },
     "output_type": "display_data"
    }
   ],
   "source": [
    "import matplotlib.patches as mpatches\n",
    "fig, ax = plt.subplots()\n",
    "std = np.std([cv_rf.best_estimator_.feature_importances_ \\\n",
    "             for tree in cv_rf.best_estimator_.feature_importances_], axis=0)\n",
    "ax.barh(forest_importances.index, forest_importances['imp'], xerr=std, align='center', \n",
    "        color=['red' if imp < 0.95 else 'blue' for imp in forest_importances['95% imp'] ])\n",
    "ax.set_title(\"Feature importances using MDI\")\n",
    "ax.set_xlabel(\"Mean decrease in impurity\")\n",
    "ax.set_ylabel(\"Features\")\n",
    "plt.gca().invert_yaxis()\n",
    "red_patch = mpatches.Patch(color='red', label='Cumlum Feature Imp < 0.95')\n",
    "blue_patch = mpatches.Patch(color='Blue', label='Cumulum Feature Imp >= 0.95')\n",
    "plt.legend(handles=[red_patch, blue_patch], loc='lower right')\n",
    "fig.tight_layout()\n",
    "plt.savefig(\"pool_fi.png\")"
   ]
  },
  {
   "cell_type": "markdown",
   "id": "acf1e786",
   "metadata": {},
   "source": [
    "# Country-Specific Permutation Feature Importance"
   ]
  },
  {
   "cell_type": "code",
   "execution_count": 134,
   "id": "1313ae81",
   "metadata": {},
   "outputs": [],
   "source": [
    "from sklearn.inspection import permutation_importance"
   ]
  },
  {
   "cell_type": "code",
   "execution_count": 149,
   "id": "3151d755",
   "metadata": {},
   "outputs": [],
   "source": [
    "def extract_country(df, country):\n",
    "    '''\n",
    "    extract obs from the same country from a dataset\n",
    "    '''\n",
    "    X_test = test.drop('violence', axis=1).loc[test['country'] == country, :]\n",
    "    X_test = X_test.drop('country', axis=1)\n",
    "    y_test = test.loc[test['country'] == country, 'violence']\n",
    "    \n",
    "    return X_test, y_test"
   ]
  },
  {
   "cell_type": "code",
   "execution_count": 150,
   "id": "0d1d1065",
   "metadata": {},
   "outputs": [],
   "source": [
    "X_test_PK, y_test_PK = extract_country(test, \"PK\")\n",
    "X_test_IA, y_test_IA = extract_country(test, \"IA\")\n",
    "X_test_NP, y_test_NP = extract_country(test, \"NP\")"
   ]
  },
  {
   "cell_type": "code",
   "execution_count": 152,
   "id": "6c7d27ad",
   "metadata": {},
   "outputs": [
    {
     "data": {
      "image/png": "[encoded data removed]",
      "text/plain": [
       "<Figure size 432x288 with 1 Axes>"
      ]
     },
     "metadata": {
      "needs_background": "light"
     },
     "output_type": "display_data"
    }
   ],
   "source": [
    "plt.close()\n",
    "result = permutation_importance(cv_rf.best_estimator_, X_test_PK.compute(), y_test_PK.compute(), \n",
    "                                n_repeats=1000,\n",
    "                                random_state=random_state, n_jobs=-1)\n",
    "sorted_idx = result.importances_mean.argsort()\n",
    "\n",
    "fig, ax = plt.subplots()\n",
    "ax.boxplot(result.importances[sorted_idx].T,\n",
    "           vert=False, labels=X_test.columns[sorted_idx])\n",
    "ax.set_title(\"Permutation Importances (Pakistan)\")\n",
    "ax.set_ylabel(\"Features\")\n",
    "ax.set_xlabel(\"Permutation Importances\")\n",
    "fig.tight_layout()\n",
    "plt.savefig(\"fi_PK.png\")\n",
    "plt.show()"
   ]
  },
  {
   "cell_type": "code",
   "execution_count": 153,
   "id": "27eca5ac",
   "metadata": {},
   "outputs": [
    {
     "data": {
      "image/png": "[encoded data removed]",
      "text/plain": [
       "<Figure size 432x288 with 1 Axes>"
      ]
     },
     "metadata": {
      "needs_background": "light"
     },
     "output_type": "display_data"
    }
   ],
   "source": [
    "plt.close()\n",
    "result = permutation_importance(cv_rf.best_estimator_, X_test_IA.compute(), y_test_IA.compute(), \n",
    "                                n_repeats=1000,\n",
    "                                random_state=random_state, n_jobs=-1)\n",
    "sorted_idx = result.importances_mean.argsort()\n",
    "\n",
    "fig, ax = plt.subplots()\n",
    "ax.boxplot(result.importances[sorted_idx].T,\n",
    "           vert=False, labels=X_test.columns[sorted_idx])\n",
    "ax.set_title(\"Permutation Importances (India)\")\n",
    "ax.set_ylabel(\"Features\")\n",
    "ax.set_xlabel(\"Permutation Importances\")\n",
    "fig.tight_layout()\n",
    "plt.savefig(\"fi_IA.png\")\n",
    "plt.show()"
   ]
  },
  {
   "cell_type": "code",
   "execution_count": 154,
   "id": "903e15e5",
   "metadata": {},
   "outputs": [
    {
     "data": {
      "image/png": "[encoded data removed]",
      "text/plain": [
       "<Figure size 432x288 with 1 Axes>"
      ]
     },
     "metadata": {
      "needs_background": "light"
     },
     "output_type": "display_data"
    }
   ],
   "source": [
    "plt.close()\n",
    "result = permutation_importance(cv_rf.best_estimator_, X_test_NP.compute(), y_test_NP.compute(), \n",
    "                                n_repeats=1000,\n",
    "                                random_state=random_state, n_jobs=-1)\n",
    "sorted_idx = result.importances_mean.argsort()\n",
    "\n",
    "fig, ax = plt.subplots()\n",
    "ax.boxplot(result.importances[sorted_idx].T,\n",
    "           vert=False, labels=X_test.columns[sorted_idx])\n",
    "ax.set_title(\"Permutation Importances (Nepal)\")\n",
    "ax.set_ylabel(\"Features\")\n",
    "ax.set_xlabel(\"Permutation Importances\")\n",
    "fig.tight_layout()\n",
    "plt.savefig(\"fi_NP.png\")\n",
    "plt.show()"
   ]
  }
 ],
 "metadata": {
  "kernelspec": {
   "display_name": "Python [conda env:macs30123]",
   "language": "python",
   "name": "conda-env-macs30123-py"
  },
  "language_info": {
   "codemirror_mode": {
    "name": "ipython",
    "version": 3
   },
   "file_extension": ".py",
   "mimetype": "text/x-python",
   "name": "python",
   "nbconvert_exporter": "python",
   "pygments_lexer": "ipython3",
   "version": "3.7.10"
  }
 },
 "nbformat": 4,
 "nbformat_minor": 5
}
